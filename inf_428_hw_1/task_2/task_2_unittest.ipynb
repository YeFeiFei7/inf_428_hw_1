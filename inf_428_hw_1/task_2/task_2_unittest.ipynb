{
 "cells": [
  {
   "cell_type": "code",
   "execution_count": 14,
   "id": "5ef365c4",
   "metadata": {},
   "outputs": [
    {
     "name": "stderr",
     "output_type": "stream",
     "text": [
      "....\n",
      "----------------------------------------------------------------------\n",
      "Ran 4 tests in 0.069s\n",
      "\n",
      "OK\n"
     ]
    },
    {
     "data": {
      "text/plain": [
       "<unittest.runner.TextTestResult run=4 errors=0 failures=0>"
      ]
     },
     "execution_count": 14,
     "metadata": {},
     "output_type": "execute_result"
    }
   ],
   "source": [
    "import unittest\n",
    "import numpy as np\n",
    "import pandas as pd\n",
    "\n",
    "# 被测试的函数\n",
    "def generate_random_data(mean, variance, num_samples):\n",
    "    return np.random.randint(max(mean - variance, 0), min(mean + variance + 1, 90), num_samples)\n",
    "\n",
    "\n",
    "class TestDataGeneration(unittest.TestCase):\n",
    "\n",
    "    def setUp(self):\n",
    "        # 使用提供的函数来创建测试数据\n",
    "        departments = [\n",
    "            (\"Engineering\", 5),\n",
    "            (\"Marketing\", 3),\n",
    "            (\"Finance\", 4),\n",
    "            (\"HR\", 2),\n",
    "            (\"Science\", 4)\n",
    "        ]\n",
    "        data = {\n",
    "            \"Employee_Name\": [],\n",
    "            \"Department\": [],\n",
    "            \"Department_Importance\": [],\n",
    "            \"Threat_Score\": []\n",
    "        }\n",
    "        \n",
    "        # Populate data for testing\n",
    "        for dept_name, importance in departments:\n",
    "            num_employees = np.random.randint(10, 16)\n",
    "            mean_threat = np.random.randint(20, 70)\n",
    "            variance_threat = np.random.randint(5, 15)\n",
    "            threat_scores = generate_random_data(mean_threat, variance_threat, num_employees)\n",
    "\n",
    "            for i in range(num_employees):\n",
    "                data[\"Employee_Name\"].append(f\"{dept_name}_Emp_{i+1}\")\n",
    "                data[\"Department\"].append(dept_name)\n",
    "                data[\"Department_Importance\"].append(importance)\n",
    "                data[\"Threat_Score\"].append(threat_scores[i])\n",
    "\n",
    "        self.df = pd.DataFrame(data)\n",
    "\n",
    "    def test_employee_count(self):\n",
    "        # 测试每个部门是否拥有 10 到 15 名员工\n",
    "        employee_counts = self.df[\"Department\"].value_counts()\n",
    "        for count in employee_counts:\n",
    "            self.assertTrue(10 <= count <= 15)\n",
    "\n",
    "    def test_threat_score_range(self):\n",
    "        # 确保所有的威胁分数在 0 到 90 之间\n",
    "        self.assertTrue((self.df[\"Threat_Score\"] >= 0).all() and (self.df[\"Threat_Score\"] <= 90).all())\n",
    "\n",
    "    def test_department_importance(self):\n",
    "        # 验证部门的重要性是否符合初始定义\n",
    "        department_importance_map = {\n",
    "            \"Engineering\": 5,\n",
    "            \"Marketing\": 3,\n",
    "            \"Finance\": 4,\n",
    "            \"HR\": 2,\n",
    "            \"Science\": 4\n",
    "        }\n",
    "        for dept, importance in department_importance_map.items():\n",
    "            dept_df = self.df[self.df[\"Department\"] == dept]\n",
    "            self.assertTrue((dept_df[\"Department_Importance\"] == importance).all())\n",
    "\n",
    "    def test_employee_name_format(self):\n",
    "        # 验证每个员工名称的格式\n",
    "        for _, row in self.df.iterrows():\n",
    "            department = row[\"Department\"]\n",
    "            emp_name = row[\"Employee_Name\"]\n",
    "            self.assertTrue(emp_name.startswith(f\"{department}_Emp_\"))\n",
    "\n",
    "# 运行测试\n",
    "unittest.TextTestRunner().run(unittest.TestLoader().loadTestsFromTestCase(TestDataGeneration))\n"
   ]
  },
  {
   "cell_type": "code",
   "execution_count": null,
   "id": "98cfea69",
   "metadata": {},
   "outputs": [],
   "source": []
  }
 ],
 "metadata": {
  "kernelspec": {
   "display_name": "Python 3 (ipykernel)",
   "language": "python",
   "name": "python3"
  },
  "language_info": {
   "codemirror_mode": {
    "name": "ipython",
    "version": 3
   },
   "file_extension": ".py",
   "mimetype": "text/x-python",
   "name": "python",
   "nbconvert_exporter": "python",
   "pygments_lexer": "ipython3",
   "version": "3.11.5"
  }
 },
 "nbformat": 4,
 "nbformat_minor": 5
}
